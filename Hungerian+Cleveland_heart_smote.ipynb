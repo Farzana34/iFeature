{
  "nbformat": 4,
  "nbformat_minor": 0,
  "metadata": {
    "colab": {
      "name": "Hungerian+Cleveland_heart_smote.ipynb",
      "provenance": [],
      "authorship_tag": "ABX9TyMzBdD0WRxiLd4wNopxM4KS",
      "include_colab_link": true
    },
    "kernelspec": {
      "name": "python3",
      "display_name": "Python 3"
    }
  },
  "cells": [
    {
      "cell_type": "markdown",
      "metadata": {
        "id": "view-in-github",
        "colab_type": "text"
      },
      "source": [
        "<a href=\"https://colab.research.google.com/github/Farzana34/iFeature/blob/master/Hungerian%2BCleveland_heart_smote.ipynb\" target=\"_parent\"><img src=\"https://colab.research.google.com/assets/colab-badge.svg\" alt=\"Open In Colab\"/></a>"
      ]
    },
    {
      "cell_type": "code",
      "metadata": {
        "id": "Aol2Lv4S7KKE",
        "colab": {
          "base_uri": "https://localhost:8080/"
        },
        "outputId": "1cdaa35b-36a7-4a8c-dc78-a9fa6aabe1f1"
      },
      "source": [
        "pip install smote-variants"
      ],
      "execution_count": null,
      "outputs": [
        {
          "output_type": "stream",
          "text": [
            "Collecting smote-variants\n",
            "\u001b[?25l  Downloading https://files.pythonhosted.org/packages/f6/be/15b4db362d53ded5960da7d439455d2efa4d99f85626145c4bb415fde153/smote_variants-0.4.0-py3-none-any.whl (134kB)\n",
            "\r\u001b[K     |██▍                             | 10kB 17.8MB/s eta 0:00:01\r\u001b[K     |████▉                           | 20kB 22.3MB/s eta 0:00:01\r\u001b[K     |███████▎                        | 30kB 15.7MB/s eta 0:00:01\r\u001b[K     |█████████▊                      | 40kB 11.1MB/s eta 0:00:01\r\u001b[K     |████████████▏                   | 51kB 7.6MB/s eta 0:00:01\r\u001b[K     |██████████████▋                 | 61kB 7.8MB/s eta 0:00:01\r\u001b[K     |█████████████████               | 71kB 7.5MB/s eta 0:00:01\r\u001b[K     |███████████████████▌            | 81kB 8.3MB/s eta 0:00:01\r\u001b[K     |██████████████████████          | 92kB 8.1MB/s eta 0:00:01\r\u001b[K     |████████████████████████▍       | 102kB 8.5MB/s eta 0:00:01\r\u001b[K     |██████████████████████████▉     | 112kB 8.5MB/s eta 0:00:01\r\u001b[K     |█████████████████████████████▎  | 122kB 8.5MB/s eta 0:00:01\r\u001b[K     |███████████████████████████████▊| 133kB 8.5MB/s eta 0:00:01\r\u001b[K     |████████████████████████████████| 143kB 8.5MB/s \n",
            "\u001b[?25hRequirement already satisfied: tensorflow in /usr/local/lib/python3.6/dist-packages (from smote-variants) (2.3.0)\n",
            "Requirement already satisfied: joblib in /usr/local/lib/python3.6/dist-packages (from smote-variants) (0.17.0)\n",
            "Requirement already satisfied: mkl in /usr/local/lib/python3.6/dist-packages (from smote-variants) (2019.0)\n",
            "Requirement already satisfied: scipy in /usr/local/lib/python3.6/dist-packages (from smote-variants) (1.4.1)\n",
            "Collecting statistics\n",
            "  Downloading https://files.pythonhosted.org/packages/bb/3a/ae99a15e65636559d936dd2159d75af1619491e8cb770859fbc8aa62cef6/statistics-1.0.3.5.tar.gz\n",
            "Requirement already satisfied: pandas in /usr/local/lib/python3.6/dist-packages (from smote-variants) (1.1.4)\n",
            "Requirement already satisfied: scikit-learn in /usr/local/lib/python3.6/dist-packages (from smote-variants) (0.22.2.post1)\n",
            "Requirement already satisfied: keras in /usr/local/lib/python3.6/dist-packages (from smote-variants) (2.4.3)\n",
            "Requirement already satisfied: numpy>=1.13.0 in /usr/local/lib/python3.6/dist-packages (from smote-variants) (1.18.5)\n",
            "Collecting minisom\n",
            "  Downloading https://files.pythonhosted.org/packages/69/3c/a5ad0d36137285cdffdd5cad105ec2eb3c3ddfbd3254a324993ab51d3401/MiniSom-2.2.7.tar.gz\n",
            "Requirement already satisfied: tensorboard<3,>=2.3.0 in /usr/local/lib/python3.6/dist-packages (from tensorflow->smote-variants) (2.3.0)\n",
            "Requirement already satisfied: protobuf>=3.9.2 in /usr/local/lib/python3.6/dist-packages (from tensorflow->smote-variants) (3.12.4)\n",
            "Requirement already satisfied: tensorflow-estimator<2.4.0,>=2.3.0 in /usr/local/lib/python3.6/dist-packages (from tensorflow->smote-variants) (2.3.0)\n",
            "Requirement already satisfied: opt-einsum>=2.3.2 in /usr/local/lib/python3.6/dist-packages (from tensorflow->smote-variants) (3.3.0)\n",
            "Requirement already satisfied: google-pasta>=0.1.8 in /usr/local/lib/python3.6/dist-packages (from tensorflow->smote-variants) (0.2.0)\n",
            "Requirement already satisfied: h5py<2.11.0,>=2.10.0 in /usr/local/lib/python3.6/dist-packages (from tensorflow->smote-variants) (2.10.0)\n",
            "Requirement already satisfied: wrapt>=1.11.1 in /usr/local/lib/python3.6/dist-packages (from tensorflow->smote-variants) (1.12.1)\n",
            "Requirement already satisfied: gast==0.3.3 in /usr/local/lib/python3.6/dist-packages (from tensorflow->smote-variants) (0.3.3)\n",
            "Requirement already satisfied: termcolor>=1.1.0 in /usr/local/lib/python3.6/dist-packages (from tensorflow->smote-variants) (1.1.0)\n",
            "Requirement already satisfied: astunparse==1.6.3 in /usr/local/lib/python3.6/dist-packages (from tensorflow->smote-variants) (1.6.3)\n",
            "Requirement already satisfied: six>=1.12.0 in /usr/local/lib/python3.6/dist-packages (from tensorflow->smote-variants) (1.15.0)\n",
            "Requirement already satisfied: grpcio>=1.8.6 in /usr/local/lib/python3.6/dist-packages (from tensorflow->smote-variants) (1.33.2)\n",
            "Requirement already satisfied: absl-py>=0.7.0 in /usr/local/lib/python3.6/dist-packages (from tensorflow->smote-variants) (0.10.0)\n",
            "Requirement already satisfied: wheel>=0.26 in /usr/local/lib/python3.6/dist-packages (from tensorflow->smote-variants) (0.35.1)\n",
            "Requirement already satisfied: keras-preprocessing<1.2,>=1.1.1 in /usr/local/lib/python3.6/dist-packages (from tensorflow->smote-variants) (1.1.2)\n",
            "Requirement already satisfied: intel-openmp in /usr/local/lib/python3.6/dist-packages (from mkl->smote-variants) (2020.0.133)\n",
            "Requirement already satisfied: docutils>=0.3 in /usr/local/lib/python3.6/dist-packages (from statistics->smote-variants) (0.16)\n",
            "Requirement already satisfied: python-dateutil>=2.7.3 in /usr/local/lib/python3.6/dist-packages (from pandas->smote-variants) (2.8.1)\n",
            "Requirement already satisfied: pytz>=2017.2 in /usr/local/lib/python3.6/dist-packages (from pandas->smote-variants) (2018.9)\n",
            "Requirement already satisfied: pyyaml in /usr/local/lib/python3.6/dist-packages (from keras->smote-variants) (3.13)\n",
            "Requirement already satisfied: google-auth<2,>=1.6.3 in /usr/local/lib/python3.6/dist-packages (from tensorboard<3,>=2.3.0->tensorflow->smote-variants) (1.17.2)\n",
            "Requirement already satisfied: requests<3,>=2.21.0 in /usr/local/lib/python3.6/dist-packages (from tensorboard<3,>=2.3.0->tensorflow->smote-variants) (2.23.0)\n",
            "Requirement already satisfied: werkzeug>=0.11.15 in /usr/local/lib/python3.6/dist-packages (from tensorboard<3,>=2.3.0->tensorflow->smote-variants) (1.0.1)\n",
            "Requirement already satisfied: google-auth-oauthlib<0.5,>=0.4.1 in /usr/local/lib/python3.6/dist-packages (from tensorboard<3,>=2.3.0->tensorflow->smote-variants) (0.4.2)\n",
            "Requirement already satisfied: setuptools>=41.0.0 in /usr/local/lib/python3.6/dist-packages (from tensorboard<3,>=2.3.0->tensorflow->smote-variants) (50.3.2)\n",
            "Requirement already satisfied: tensorboard-plugin-wit>=1.6.0 in /usr/local/lib/python3.6/dist-packages (from tensorboard<3,>=2.3.0->tensorflow->smote-variants) (1.7.0)\n",
            "Requirement already satisfied: markdown>=2.6.8 in /usr/local/lib/python3.6/dist-packages (from tensorboard<3,>=2.3.0->tensorflow->smote-variants) (3.3.3)\n",
            "Requirement already satisfied: rsa<5,>=3.1.4; python_version >= \"3\" in /usr/local/lib/python3.6/dist-packages (from google-auth<2,>=1.6.3->tensorboard<3,>=2.3.0->tensorflow->smote-variants) (4.6)\n",
            "Requirement already satisfied: cachetools<5.0,>=2.0.0 in /usr/local/lib/python3.6/dist-packages (from google-auth<2,>=1.6.3->tensorboard<3,>=2.3.0->tensorflow->smote-variants) (4.1.1)\n",
            "Requirement already satisfied: pyasn1-modules>=0.2.1 in /usr/local/lib/python3.6/dist-packages (from google-auth<2,>=1.6.3->tensorboard<3,>=2.3.0->tensorflow->smote-variants) (0.2.8)\n",
            "Requirement already satisfied: certifi>=2017.4.17 in /usr/local/lib/python3.6/dist-packages (from requests<3,>=2.21.0->tensorboard<3,>=2.3.0->tensorflow->smote-variants) (2020.6.20)\n",
            "Requirement already satisfied: urllib3!=1.25.0,!=1.25.1,<1.26,>=1.21.1 in /usr/local/lib/python3.6/dist-packages (from requests<3,>=2.21.0->tensorboard<3,>=2.3.0->tensorflow->smote-variants) (1.24.3)\n",
            "Requirement already satisfied: idna<3,>=2.5 in /usr/local/lib/python3.6/dist-packages (from requests<3,>=2.21.0->tensorboard<3,>=2.3.0->tensorflow->smote-variants) (2.10)\n",
            "Requirement already satisfied: chardet<4,>=3.0.2 in /usr/local/lib/python3.6/dist-packages (from requests<3,>=2.21.0->tensorboard<3,>=2.3.0->tensorflow->smote-variants) (3.0.4)\n",
            "Requirement already satisfied: requests-oauthlib>=0.7.0 in /usr/local/lib/python3.6/dist-packages (from google-auth-oauthlib<0.5,>=0.4.1->tensorboard<3,>=2.3.0->tensorflow->smote-variants) (1.3.0)\n",
            "Requirement already satisfied: importlib-metadata; python_version < \"3.8\" in /usr/local/lib/python3.6/dist-packages (from markdown>=2.6.8->tensorboard<3,>=2.3.0->tensorflow->smote-variants) (2.0.0)\n",
            "Requirement already satisfied: pyasn1>=0.1.3 in /usr/local/lib/python3.6/dist-packages (from rsa<5,>=3.1.4; python_version >= \"3\"->google-auth<2,>=1.6.3->tensorboard<3,>=2.3.0->tensorflow->smote-variants) (0.4.8)\n",
            "Requirement already satisfied: oauthlib>=3.0.0 in /usr/local/lib/python3.6/dist-packages (from requests-oauthlib>=0.7.0->google-auth-oauthlib<0.5,>=0.4.1->tensorboard<3,>=2.3.0->tensorflow->smote-variants) (3.1.0)\n",
            "Requirement already satisfied: zipp>=0.5 in /usr/local/lib/python3.6/dist-packages (from importlib-metadata; python_version < \"3.8\"->markdown>=2.6.8->tensorboard<3,>=2.3.0->tensorflow->smote-variants) (3.4.0)\n",
            "Building wheels for collected packages: statistics, minisom\n",
            "  Building wheel for statistics (setup.py) ... \u001b[?25l\u001b[?25hdone\n",
            "  Created wheel for statistics: filename=statistics-1.0.3.5-cp36-none-any.whl size=7454 sha256=a8a7c8d0665a2489da57b90c4ed2e4677674bfdba1d5587c13e8b30767fe1328\n",
            "  Stored in directory: /root/.cache/pip/wheels/75/55/90/73aa7662bfb4565b567618547a275f01372a678ca92ecd64f3\n",
            "  Building wheel for minisom (setup.py) ... \u001b[?25l\u001b[?25hdone\n",
            "  Created wheel for minisom: filename=MiniSom-2.2.7-cp36-none-any.whl size=8607 sha256=14e94aaa46084b6491625ee0f0ebe26dcd40daa71ae37a9a6d72d2bf54a893f7\n",
            "  Stored in directory: /root/.cache/pip/wheels/db/9a/af/0fca4ced67fec66c00998c4bf55b13f0a4c882ee775f278862\n",
            "Successfully built statistics minisom\n",
            "Installing collected packages: statistics, minisom, smote-variants\n",
            "Successfully installed minisom-2.2.7 smote-variants-0.4.0 statistics-1.0.3.5\n"
          ],
          "name": "stdout"
        }
      ]
    },
    {
      "cell_type": "code",
      "metadata": {
        "id": "BjTono-n7OmW"
      },
      "source": [
        "import numpy as np\n",
        "import matplotlib.pyplot as plt\n",
        "import smote_variants as sv\n",
        "from sklearn import datasets\n",
        "from sklearn.model_selection import train_test_split\n",
        "from sklearn.metrics import confusion_matrix\n",
        "from sklearn.metrics import classification_report\n"
      ],
      "execution_count": null,
      "outputs": []
    },
    {
      "cell_type": "code",
      "metadata": {
        "id": "Wd-3hcG2C0rZ",
        "colab": {
          "resources": {
            "http://localhost:8080/nbextensions/google.colab/files.js": {
              "data": "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",
              "ok": true,
              "headers": [
                [
                  "content-type",
                  "application/javascript"
                ]
              ],
              "status": 200,
              "status_text": ""
            }
          },
          "base_uri": "https://localhost:8080/",
          "height": 73
        },
        "outputId": "b6b4124d-c92f-42f2-ebf8-a51e446ac665"
      },
      "source": [
        "from google.colab import files\n",
        "uploaded = files.upload()"
      ],
      "execution_count": null,
      "outputs": [
        {
          "output_type": "display_data",
          "data": {
            "text/html": [
              "\n",
              "     <input type=\"file\" id=\"files-ffe92a26-62e3-4084-a341-90c790e1ff7b\" name=\"files[]\" multiple disabled\n",
              "        style=\"border:none\" />\n",
              "     <output id=\"result-ffe92a26-62e3-4084-a341-90c790e1ff7b\">\n",
              "      Upload widget is only available when the cell has been executed in the\n",
              "      current browser session. Please rerun this cell to enable.\n",
              "      </output>\n",
              "      <script src=\"/nbextensions/google.colab/files.js\"></script> "
            ],
            "text/plain": [
              "<IPython.core.display.HTML object>"
            ]
          },
          "metadata": {
            "tags": []
          }
        },
        {
          "output_type": "stream",
          "text": [
            "Saving heart_statlog_cleveland_hungary_final.csv to heart_statlog_cleveland_hungary_final.csv\n"
          ],
          "name": "stdout"
        }
      ]
    },
    {
      "cell_type": "code",
      "metadata": {
        "id": "B_mVMH_wC3qt"
      },
      "source": [
        "import io\n",
        "import pandas as pd\n",
        "\n",
        "\n",
        "dataset= pd.read_csv(io.BytesIO(uploaded['heart_statlog_cleveland_hungary_final.csv']))"
      ],
      "execution_count": null,
      "outputs": []
    },
    {
      "cell_type": "markdown",
      "metadata": {
        "id": "yCWhPeJHph37"
      },
      "source": [
        "# **Without smote**"
      ]
    },
    {
      "cell_type": "code",
      "metadata": {
        "id": "Bq2uDxPV9pAa"
      },
      "source": [
        "X= dataset.iloc[:, 0:11].values\n",
        "y = dataset.iloc[:, 11].values"
      ],
      "execution_count": null,
      "outputs": []
    },
    {
      "cell_type": "code",
      "metadata": {
        "id": "2p3qZ--G5vCT",
        "colab": {
          "base_uri": "https://localhost:8080/",
          "height": 385
        },
        "outputId": "c5a593fe-0355-4291-feb1-ab3f7dd78c66"
      },
      "source": [
        "\n",
        "plt.figure(figsize=(10, 5))\n",
        "plt.scatter(X[y == 0][:,0], X[y == 0][:,4], label='minority class', c='orange')\n",
        "plt.scatter(X[y == 1][:,0], X[y == 1][:,4], label='majority class', c='olive')\n",
        "plt.title('original dataset')\n",
        "plt.xlabel('coordinate 0')\n",
        "plt.ylabel('coordinate 1')\n",
        "plt.legend()\n",
        "\n",
        "print('minority class: %d' % np.sum(y == 0))\n",
        "print('majority class: %d' % np.sum(y == 1))\n"
      ],
      "execution_count": null,
      "outputs": [
        {
          "output_type": "stream",
          "text": [
            "minority class: 561\n",
            "majority class: 629\n"
          ],
          "name": "stdout"
        },
        {
          "output_type": "display_data",
          "data": {
            "image/png": "[encoded data removed]",
            "text/plain": [
              "<Figure size 720x360 with 1 Axes>"
            ]
          },
          "metadata": {
            "tags": [],
            "needs_background": "light"
          }
        }
      ]
    },
    {
      "cell_type": "code",
      "metadata": {
        "id": "sxlWkxkUM33X",
        "colab": {
          "base_uri": "https://localhost:8080/",
          "height": 351
        },
        "outputId": "f714436b-71b5-462b-f4a7-a8be512372c1"
      },
      "source": [
        "import seaborn as sns\n",
        "sns.countplot(dataset['target'])"
      ],
      "execution_count": null,
      "outputs": [
        {
          "output_type": "stream",
          "text": [
            "/usr/local/lib/python3.6/dist-packages/seaborn/_decorators.py:43: FutureWarning: Pass the following variable as a keyword arg: x. From version 0.12, the only valid positional argument will be `data`, and passing other arguments without an explicit keyword will result in an error or misinterpretation.\n",
            "  FutureWarning\n"
          ],
          "name": "stderr"
        },
        {
          "output_type": "execute_result",
          "data": {
            "text/plain": [
              "<matplotlib.axes._subplots.AxesSubplot at 0x7f0060d654e0>"
            ]
          },
          "metadata": {
            "tags": []
          },
          "execution_count": 25
        },
        {
          "output_type": "display_data",
          "data": {
            "image/png": "[encoded data removed]",
            "text/plain": [
              "<Figure size 432x288 with 1 Axes>"
            ]
          },
          "metadata": {
            "tags": [],
            "needs_background": "light"
          }
        }
      ]
    },
    {
      "cell_type": "code",
      "metadata": {
        "id": "34dF0joDCO0K",
        "colab": {
          "base_uri": "https://localhost:8080/"
        },
        "outputId": "a9be1180-63e7-4415-de10-9a72fcc24630"
      },
      "source": [
        "\n",
        "print('majority class: %d' % np.sum(y == 0))\n",
        "print('minority class: %d' % np.sum(y == 1))"
      ],
      "execution_count": null,
      "outputs": [
        {
          "output_type": "stream",
          "text": [
            "majority class: 561\n",
            "minority class: 629\n"
          ],
          "name": "stdout"
        }
      ]
    },
    {
      "cell_type": "code",
      "metadata": {
        "id": "oJ83R0vMM_U7"
      },
      "source": [
        "X_train, X_test, y_train, y_test = train_test_split(X, y, test_size = 0.2,random_state=42)"
      ],
      "execution_count": null,
      "outputs": []
    },
    {
      "cell_type": "code",
      "metadata": {
        "id": "ke7uUV7IOPSR",
        "colab": {
          "base_uri": "https://localhost:8080/",
          "height": 681
        },
        "outputId": "40df822d-4fbf-497c-a8d6-a7dfc02cbf48"
      },
      "source": [
        "from sklearn.naive_bayes import GaussianNB\n",
        "from sklearn.model_selection import cross_val_score,cross_val_predict\n",
        "from sklearn.metrics import accuracy_score\n",
        "from sklearn.metrics import roc_curve\n",
        "from sklearn.metrics import roc_auc_score\n",
        "nb1 = GaussianNB()\n",
        "nb1.fit(X_train, y_train)\n",
        "y_pred=nb1.predict(X_test)\n",
        "from sklearn.metrics import classification_report\n",
        "from sklearn.model_selection import cross_val_score,cross_val_predict\n",
        "print(\"Accuracy: \")\n",
        "print(accuracy_score(y_pred, y_test)*100)\n",
        "print(confusion_matrix(y_test,y_pred))\n",
        "print(classification_report(y_test,y_pred))\n",
        "sns.heatmap(confusion_matrix(y_test,y_pred),annot=True,fmt=\"0.0f\")\n",
        "print(\"10 fold cross validation\")\n",
        "nb2 = cross_val_score(nb1, X, y, cv=10)\n",
        "print(nb2.mean()*100)\n",
        "predictions = cross_val_predict(nb1, X, y, cv=10)\n",
        "print(classification_report(y,predictions))"
      ],
      "execution_count": null,
      "outputs": [
        {
          "output_type": "stream",
          "text": [
            "Accuracy: \n",
            "85.71428571428571\n",
            "[[ 89  18]\n",
            " [ 16 115]]\n",
            "              precision    recall  f1-score   support\n",
            "\n",
            "           0       0.85      0.83      0.84       107\n",
            "           1       0.86      0.88      0.87       131\n",
            "\n",
            "    accuracy                           0.86       238\n",
            "   macro avg       0.86      0.85      0.86       238\n",
            "weighted avg       0.86      0.86      0.86       238\n",
            "\n",
            "10 fold cross validation\n",
            "83.27731092436976\n",
            "              precision    recall  f1-score   support\n",
            "\n",
            "           0       0.81      0.84      0.82       561\n",
            "           1       0.85      0.83      0.84       629\n",
            "\n",
            "    accuracy                           0.83      1190\n",
            "   macro avg       0.83      0.83      0.83      1190\n",
            "weighted avg       0.83      0.83      0.83      1190\n",
            "\n"
          ],
          "name": "stdout"
        },
        {
          "output_type": "display_data",
          "data": {
            "image/png": "[encoded data removed]",
            "text/plain": [
              "<Figure size 432x288 with 2 Axes>"
            ]
          },
          "metadata": {
            "tags": [],
            "needs_background": "light"
          }
        }
      ]
    },
    {
      "cell_type": "code",
      "metadata": {
        "id": "Uy_eRofGbKAS",
        "colab": {
          "base_uri": "https://localhost:8080/",
          "height": 283
        },
        "outputId": "66e34f50-7630-4f9d-bd83-33452490fa7e"
      },
      "source": [
        "sns.heatmap(confusion_matrix(y,predictions),annot=True,fmt=\"0.0f\")"
      ],
      "execution_count": null,
      "outputs": [
        {
          "output_type": "execute_result",
          "data": {
            "text/plain": [
              "<matplotlib.axes._subplots.AxesSubplot at 0x7f77cd46ff98>"
            ]
          },
          "metadata": {
            "tags": []
          },
          "execution_count": 14
        },
        {
          "output_type": "display_data",
          "data": {
            "image/png": "[encoded data removed]",
            "text/plain": [
              "<Figure size 432x288 with 2 Axes>"
            ]
          },
          "metadata": {
            "tags": [],
            "needs_background": "light"
          }
        }
      ]
    },
    {
      "cell_type": "code",
      "metadata": {
        "id": "UGSDiAYINSQD",
        "colab": {
          "base_uri": "https://localhost:8080/",
          "height": 647
        },
        "outputId": "00da25ef-fe45-401d-bfa7-92d5e5e6bef9"
      },
      "source": [
        " from sklearn.tree import DecisionTreeClassifier\n",
        " from sklearn.metrics import accuracy_score\n",
        " from sklearn.model_selection import cross_val_score\n",
        " clf_tree = DecisionTreeClassifier(random_state=0)\n",
        "\n",
        " clf_tree.fit(X_train, y_train)\n",
        "y_pred = clf_tree.predict(X_test) \n",
        "acc = accuracy_score(y_test, y_pred)\n",
        "\n",
        "print (\" Decission tree accuracy: \",acc*100)\n",
        "print(confusion_matrix(y_test,y_pred))\n",
        "print(classification_report(y_test,y_pred))\n",
        "sns.heatmap(confusion_matrix(y_test,y_pred),annot=True,fmt=\"0.0f\")\n",
        "scores = cross_val_score(clf_tree, X, y, cv=10)\n",
        "print(scores.mean()*100)\n",
        "predictions = cross_val_predict(clf_tree, X, y, cv=10)\n",
        "print(classification_report(y,predictions))"
      ],
      "execution_count": null,
      "outputs": [
        {
          "output_type": "stream",
          "text": [
            " Decission tree accuracy:  89.07563025210085\n",
            "[[ 99   8]\n",
            " [ 18 113]]\n",
            "              precision    recall  f1-score   support\n",
            "\n",
            "           0       0.85      0.93      0.88       107\n",
            "           1       0.93      0.86      0.90       131\n",
            "\n",
            "    accuracy                           0.89       238\n",
            "   macro avg       0.89      0.89      0.89       238\n",
            "weighted avg       0.89      0.89      0.89       238\n",
            "\n",
            "90.33613445378151\n",
            "              precision    recall  f1-score   support\n",
            "\n",
            "           0       0.89      0.91      0.90       561\n",
            "           1       0.91      0.90      0.91       629\n",
            "\n",
            "    accuracy                           0.90      1190\n",
            "   macro avg       0.90      0.90      0.90      1190\n",
            "weighted avg       0.90      0.90      0.90      1190\n",
            "\n"
          ],
          "name": "stdout"
        },
        {
          "output_type": "display_data",
          "data": {
            "image/png": "[encoded data removed]",
            "text/plain": [
              "<Figure size 432x288 with 2 Axes>"
            ]
          },
          "metadata": {
            "tags": [],
            "needs_background": "light"
          }
        }
      ]
    },
    {
      "cell_type": "code",
      "metadata": {
        "id": "cOKdF1Lzbd5F",
        "colab": {
          "base_uri": "https://localhost:8080/",
          "height": 283
        },
        "outputId": "41993f58-341d-4561-8897-00b753ec7e70"
      },
      "source": [
        "sns.heatmap(confusion_matrix(y,predictions),annot=True,fmt=\"0.0f\")"
      ],
      "execution_count": null,
      "outputs": [
        {
          "output_type": "execute_result",
          "data": {
            "text/plain": [
              "<matplotlib.axes._subplots.AxesSubplot at 0x7f0060c5eb38>"
            ]
          },
          "metadata": {
            "tags": []
          },
          "execution_count": 30
        },
        {
          "output_type": "display_data",
          "data": {
            "image/png": "[encoded data removed]",
            "text/plain": [
              "<Figure size 432x288 with 2 Axes>"
            ]
          },
          "metadata": {
            "tags": [],
            "needs_background": "light"
          }
        }
      ]
    },
    {
      "cell_type": "code",
      "metadata": {
        "id": "cm710ehMN9yN",
        "colab": {
          "base_uri": "https://localhost:8080/",
          "height": 647
        },
        "outputId": "38442805-2aa2-4a7a-c126-8aad031b8933"
      },
      "source": [
        "from sklearn.ensemble import RandomForestClassifier\n",
        "clf_rf = RandomForestClassifier(max_depth=10, random_state=0)\n",
        "clf_rf.fit(X_train, y_train)\n",
        "y_pred = clf_rf.predict(X_test) \n",
        "acc = accuracy_score(y_test, y_pred)\n",
        "\n",
        "print (\"random Forest accuracy: \",acc*100)\n",
        "print(confusion_matrix(y_test,y_pred))\n",
        "print(classification_report(y_test,y_pred))\n",
        "sns.heatmap(confusion_matrix(y_test,y_pred),annot=True,fmt=\"0.0f\")\n",
        "\n",
        "scores = cross_val_score(clf_rf, X, y, cv=10)\n",
        "print(scores.mean()*100)\n",
        "predictions = cross_val_predict(clf_rf, X, y, cv=10)\n",
        "print(classification_report(y,predictions))"
      ],
      "execution_count": null,
      "outputs": [
        {
          "output_type": "stream",
          "text": [
            "random Forest accuracy:  95.37815126050421\n",
            "[[ 99   8]\n",
            " [  3 128]]\n",
            "              precision    recall  f1-score   support\n",
            "\n",
            "           0       0.97      0.93      0.95       107\n",
            "           1       0.94      0.98      0.96       131\n",
            "\n",
            "    accuracy                           0.95       238\n",
            "   macro avg       0.96      0.95      0.95       238\n",
            "weighted avg       0.95      0.95      0.95       238\n",
            "\n",
            "92.18487394957982\n",
            "              precision    recall  f1-score   support\n",
            "\n",
            "           0       0.93      0.90      0.92       561\n",
            "           1       0.91      0.94      0.93       629\n",
            "\n",
            "    accuracy                           0.92      1190\n",
            "   macro avg       0.92      0.92      0.92      1190\n",
            "weighted avg       0.92      0.92      0.92      1190\n",
            "\n"
          ],
          "name": "stdout"
        },
        {
          "output_type": "display_data",
          "data": {
            "image/png": "[encoded data removed]",
            "text/plain": [
              "<Figure size 432x288 with 2 Axes>"
            ]
          },
          "metadata": {
            "tags": [],
            "needs_background": "light"
          }
        }
      ]
    },
    {
      "cell_type": "code",
      "metadata": {
        "id": "5r6V8rM5bjrM",
        "colab": {
          "base_uri": "https://localhost:8080/",
          "height": 283
        },
        "outputId": "5da994bb-191a-4be0-ed65-5390a414ba32"
      },
      "source": [
        "sns.heatmap(confusion_matrix(y,predictions),annot=True,fmt=\"0.0f\")"
      ],
      "execution_count": null,
      "outputs": [
        {
          "output_type": "execute_result",
          "data": {
            "text/plain": [
              "<matplotlib.axes._subplots.AxesSubplot at 0x7f77ca9eef60>"
            ]
          },
          "metadata": {
            "tags": []
          },
          "execution_count": 18
        },
        {
          "output_type": "display_data",
          "data": {
            "image/png": "[encoded data removed]",
            "text/plain": [
              "<Figure size 432x288 with 2 Axes>"
            ]
          },
          "metadata": {
            "tags": [],
            "needs_background": "light"
          }
        }
      ]
    },
    {
      "cell_type": "markdown",
      "metadata": {
        "id": "S1FeokWCpssV"
      },
      "source": [
        ""
      ]
    },
    {
      "cell_type": "markdown",
      "metadata": {
        "id": "Snckiq5Hpt7d"
      },
      "source": [
        "# **With smote**"
      ]
    },
    {
      "cell_type": "code",
      "metadata": {
        "id": "12KSzYNFonSH",
        "colab": {
          "base_uri": "https://localhost:8080/"
        },
        "outputId": "4e1cdfac-d3f6-47bc-94f8-4cd53db13038"
      },
      "source": [
        "import smote_variants as sv\n",
        "oversampler= sv.SMOTE()\n",
        "X_samp, y_samp= oversampler.sample(X, y)\n",
        "Xtrain_oversample, ytrain_oversample = oversampler.fit_resample(X_train, y_train)\n",
        "X_oversample, y_oversample = oversampler.fit_resample(X, y)"
      ],
      "execution_count": null,
      "outputs": [
        {
          "output_type": "stream",
          "text": [
            "2020-11-23 10:49:51,170:INFO:SMOTE: Running sampling via ('SMOTE', \"{'proportion': 1.0, 'n_neighbors': 5, 'n_jobs': 1, 'random_state': None}\")\n",
            "2020-11-23 10:49:51,183:INFO:SMOTE: Running sampling via ('SMOTE', \"{'proportion': 1.0, 'n_neighbors': 5, 'n_jobs': 1, 'random_state': None}\")\n",
            "2020-11-23 10:49:51,192:INFO:SMOTE: Running sampling via ('SMOTE', \"{'proportion': 1.0, 'n_neighbors': 5, 'n_jobs': 1, 'random_state': None}\")\n"
          ],
          "name": "stderr"
        }
      ]
    },
    {
      "cell_type": "code",
      "metadata": {
        "id": "-OoOuvzwouNN",
        "colab": {
          "base_uri": "https://localhost:8080/"
        },
        "outputId": "72bff969-8086-492e-c2ad-125362b5fd30"
      },
      "source": [
        "oversamplers= sv.get_all_oversamplers()\n",
        "X_samp, y_samp= X_samp[len(X):], y_samp[len(y):]\n",
        "\n",
        "print('majority new samples: %d' % np.sum(y_samp == 0))\n",
        "print('minority new samples: %d' % np.sum(y_samp == 1))"
      ],
      "execution_count": null,
      "outputs": [
        {
          "output_type": "stream",
          "text": [
            "majority new samples: 68\n",
            "minority new samples: 0\n"
          ],
          "name": "stdout"
        }
      ]
    },
    {
      "cell_type": "code",
      "metadata": {
        "id": "hMw8YbXxo3AB",
        "colab": {
          "base_uri": "https://localhost:8080/",
          "height": 350
        },
        "outputId": "38484330-01a4-46d1-93c1-6abff58eef16"
      },
      "source": [
        "\n",
        "plt.figure(figsize=(10, 5))\n",
        "\n",
        "plt.scatter(X[y == 0][:,0], X[y == 0][:,4], c='orange',label='minority class')\n",
        "plt.scatter(X[y == 1][:,0], X[y == 1][:,4], c='olive', label='majority class')\n",
        "plt.scatter(X_samp[y_samp == 0][:,0], X_samp[y_samp == 0][:,4], label='new minority samples', c='orange', marker='x')\n",
        "plt.title('oversampled dataset')\n",
        "plt.xlabel('coordinate 0')\n",
        "plt.ylabel('coordinate 4')\n",
        "plt.show()"
      ],
      "execution_count": null,
      "outputs": [
        {
          "output_type": "display_data",
          "data": {
            "image/png": "[encoded data removed]",
            "text/plain": [
              "<Figure size 720x360 with 1 Axes>"
            ]
          },
          "metadata": {
            "tags": [],
            "needs_background": "light"
          }
        }
      ]
    },
    {
      "cell_type": "code",
      "metadata": {
        "id": "wOgxSdKNo-gP",
        "colab": {
          "base_uri": "https://localhost:8080/",
          "height": 337
        },
        "outputId": "977a3dfa-a7f5-4516-eafa-e3678a9b8c2c"
      },
      "source": [
        "sns.countplot(y_oversample)"
      ],
      "execution_count": null,
      "outputs": [
        {
          "output_type": "stream",
          "text": [
            "/usr/local/lib/python3.6/dist-packages/seaborn/_decorators.py:43: FutureWarning: Pass the following variable as a keyword arg: x. From version 0.12, the only valid positional argument will be `data`, and passing other arguments without an explicit keyword will result in an error or misinterpretation.\n",
            "  FutureWarning\n"
          ],
          "name": "stderr"
        },
        {
          "output_type": "execute_result",
          "data": {
            "text/plain": [
              "<matplotlib.axes._subplots.AxesSubplot at 0x7f006450e048>"
            ]
          },
          "metadata": {
            "tags": []
          },
          "execution_count": 35
        },
        {
          "output_type": "display_data",
          "data": {
            "image/png": "[encoded data removed]",
            "text/plain": [
              "<Figure size 432x288 with 1 Axes>"
            ]
          },
          "metadata": {
            "tags": [],
            "needs_background": "light"
          }
        }
      ]
    },
    {
      "cell_type": "code",
      "metadata": {
        "id": "tNyXOuUbpIi8",
        "colab": {
          "base_uri": "https://localhost:8080/",
          "height": 681
        },
        "outputId": "87087899-1785-47be-cbd9-a44539a27c79"
      },
      "source": [
        "nb1 = GaussianNB()\n",
        "nb1.fit(Xtrain_oversample, ytrain_oversample)\n",
        "y_pred=nb1.predict(X_test)\n",
        "print(\"Accuracy: \")\n",
        "print(accuracy_score(y_pred, y_test)*100)\n",
        "print(confusion_matrix(y_test,y_pred))\n",
        "print(classification_report(y_test,y_pred))\n",
        "sns.heatmap(confusion_matrix(y_test,y_pred),annot=True,fmt=\"0.0f\")\n",
        "print(\"10 fold cross validation\")\n",
        "nb2 = cross_val_score(nb1, X_oversample, y_oversample, cv=10)\n",
        "print(nb2.mean()*100)\n",
        "predictions = cross_val_predict(nb1, X_oversample, y_oversample, cv=10)\n",
        "print(classification_report(y_oversample,predictions))"
      ],
      "execution_count": null,
      "outputs": [
        {
          "output_type": "stream",
          "text": [
            "Accuracy: \n",
            "85.71428571428571\n",
            "[[ 89  18]\n",
            " [ 16 115]]\n",
            "              precision    recall  f1-score   support\n",
            "\n",
            "           0       0.85      0.83      0.84       107\n",
            "           1       0.86      0.88      0.87       131\n",
            "\n",
            "    accuracy                           0.86       238\n",
            "   macro avg       0.86      0.85      0.86       238\n",
            "weighted avg       0.86      0.86      0.86       238\n",
            "\n",
            "10 fold cross validation\n",
            "83.62031746031747\n",
            "              precision    recall  f1-score   support\n",
            "\n",
            "           0       0.83      0.84      0.84       629\n",
            "           1       0.84      0.83      0.84       629\n",
            "\n",
            "    accuracy                           0.84      1258\n",
            "   macro avg       0.84      0.84      0.84      1258\n",
            "weighted avg       0.84      0.84      0.84      1258\n",
            "\n"
          ],
          "name": "stdout"
        },
        {
          "output_type": "display_data",
          "data": {
            "image/png": "[encoded data removed]",
            "text/plain": [
              "<Figure size 432x288 with 2 Axes>"
            ]
          },
          "metadata": {
            "tags": [],
            "needs_background": "light"
          }
        }
      ]
    },
    {
      "cell_type": "code",
      "metadata": {
        "id": "5JYoUzcUbtmE",
        "colab": {
          "base_uri": "https://localhost:8080/",
          "height": 283
        },
        "outputId": "75609a68-3891-41f5-b4d9-f7a992648f4d"
      },
      "source": [
        "sns.heatmap(confusion_matrix(y_oversample,predictions),annot=True,fmt=\"0.0f\")"
      ],
      "execution_count": null,
      "outputs": [
        {
          "output_type": "execute_result",
          "data": {
            "text/plain": [
              "<matplotlib.axes._subplots.AxesSubplot at 0x7f77ca68c080>"
            ]
          },
          "metadata": {
            "tags": []
          },
          "execution_count": 24
        },
        {
          "output_type": "display_data",
          "data": {
            "image/png": "[encoded data removed]",
            "text/plain": [
              "<Figure size 432x288 with 2 Axes>"
            ]
          },
          "metadata": {
            "tags": [],
            "needs_background": "light"
          }
        }
      ]
    },
    {
      "cell_type": "code",
      "metadata": {
        "id": "_U5X2iFWpTIC",
        "colab": {
          "base_uri": "https://localhost:8080/",
          "height": 647
        },
        "outputId": "05a85a7e-a501-4331-9e8e-e9eae817b4c6"
      },
      "source": [
        "clf_tree = DecisionTreeClassifier(random_state=42)\n",
        "clf_tree.fit(Xtrain_oversample, ytrain_oversample)\n",
        "y_pred = clf_tree.predict(X_test) \n",
        "acc = accuracy_score(y_test, y_pred)\n",
        "\n",
        "print (\" Decission tree accuracy: \",acc*100)\n",
        "print(confusion_matrix(y_test,y_pred))\n",
        "print(classification_report(y_test,y_pred))\n",
        "sns.heatmap(confusion_matrix(y_test,y_pred),annot=True,fmt=\"0.0f\")\n",
        "scores = cross_val_score(clf_tree, X_oversample, y_oversample, cv=10)\n",
        "print(scores.mean()*100)\n",
        "predictions = cross_val_predict(clf_tree, X_oversample, y_oversample, cv=10)\n",
        "print(classification_report(y_oversample,predictions))"
      ],
      "execution_count": null,
      "outputs": [
        {
          "output_type": "stream",
          "text": [
            " Decission tree accuracy:  89.91596638655463\n",
            "[[ 99   8]\n",
            " [ 16 115]]\n",
            "              precision    recall  f1-score   support\n",
            "\n",
            "           0       0.86      0.93      0.89       107\n",
            "           1       0.93      0.88      0.91       131\n",
            "\n",
            "    accuracy                           0.90       238\n",
            "   macro avg       0.90      0.90      0.90       238\n",
            "weighted avg       0.90      0.90      0.90       238\n",
            "\n",
            "88.88126984126984\n",
            "              precision    recall  f1-score   support\n",
            "\n",
            "           0       0.88      0.90      0.89       629\n",
            "           1       0.90      0.88      0.89       629\n",
            "\n",
            "    accuracy                           0.89      1258\n",
            "   macro avg       0.89      0.89      0.89      1258\n",
            "weighted avg       0.89      0.89      0.89      1258\n",
            "\n"
          ],
          "name": "stdout"
        },
        {
          "output_type": "display_data",
          "data": {
            "image/png": "[encoded data removed]",
            "text/plain": [
              "<Figure size 432x288 with 2 Axes>"
            ]
          },
          "metadata": {
            "tags": [],
            "needs_background": "light"
          }
        }
      ]
    },
    {
      "cell_type": "code",
      "metadata": {
        "id": "u3DPMvyWcCPE",
        "colab": {
          "base_uri": "https://localhost:8080/",
          "height": 283
        },
        "outputId": "6f61aa62-6775-4f3f-cc91-f2df717e84de"
      },
      "source": [
        "sns.heatmap(confusion_matrix(y_oversample,predictions),annot=True,fmt=\"0.0f\")"
      ],
      "execution_count": null,
      "outputs": [
        {
          "output_type": "execute_result",
          "data": {
            "text/plain": [
              "<matplotlib.axes._subplots.AxesSubplot at 0x7f77ca70ff98>"
            ]
          },
          "metadata": {
            "tags": []
          },
          "execution_count": 26
        },
        {
          "output_type": "display_data",
          "data": {
            "image/png": "[encoded data removed]",
            "text/plain": [
              "<Figure size 432x288 with 2 Axes>"
            ]
          },
          "metadata": {
            "tags": [],
            "needs_background": "light"
          }
        }
      ]
    },
    {
      "cell_type": "code",
      "metadata": {
        "id": "y3ChptVmpapj",
        "colab": {
          "base_uri": "https://localhost:8080/",
          "height": 647
        },
        "outputId": "cae3434d-eca1-4cc6-fbfb-8a35373d73eb"
      },
      "source": [
        "from sklearn.ensemble import RandomForestClassifier\n",
        "clf_rf = RandomForestClassifier(max_depth=10, random_state=0)\n",
        "clf_rf.fit(Xtrain_oversample, ytrain_oversample)\n",
        "y_pred = clf_rf.predict(X_test) \n",
        "acc = accuracy_score(y_test, y_pred)\n",
        "\n",
        "print (\"random Forest accuracy: \",acc*100)\n",
        "print(confusion_matrix(y_test,y_pred))\n",
        "print(classification_report(y_test,y_pred))\n",
        "sns.heatmap(confusion_matrix(y_test,y_pred),annot=True,fmt=\"0.0f\")\n",
        "scores = cross_val_score(clf_rf, X_oversample, y_oversample, cv=10)\n",
        "print(scores.mean()*100)\n",
        "predictions = cross_val_predict(clf_rf, X_oversample, y_oversample, cv=10)\n",
        "print(classification_report(y_oversample,predictions))"
      ],
      "execution_count": null,
      "outputs": [
        {
          "output_type": "stream",
          "text": [
            "random Forest accuracy:  94.53781512605042\n",
            "[[ 99   8]\n",
            " [  5 126]]\n",
            "              precision    recall  f1-score   support\n",
            "\n",
            "           0       0.95      0.93      0.94       107\n",
            "           1       0.94      0.96      0.95       131\n",
            "\n",
            "    accuracy                           0.95       238\n",
            "   macro avg       0.95      0.94      0.94       238\n",
            "weighted avg       0.95      0.95      0.95       238\n",
            "\n",
            "92.68825396825397\n",
            "              precision    recall  f1-score   support\n",
            "\n",
            "           0       0.94      0.92      0.93       629\n",
            "           1       0.92      0.94      0.93       629\n",
            "\n",
            "    accuracy                           0.93      1258\n",
            "   macro avg       0.93      0.93      0.93      1258\n",
            "weighted avg       0.93      0.93      0.93      1258\n",
            "\n"
          ],
          "name": "stdout"
        },
        {
          "output_type": "display_data",
          "data": {
            "image/png": "[encoded data removed]",
            "text/plain": [
              "<Figure size 432x288 with 2 Axes>"
            ]
          },
          "metadata": {
            "tags": [],
            "needs_background": "light"
          }
        }
      ]
    },
    {
      "cell_type": "code",
      "metadata": {
        "id": "46WRoxO0cGEx",
        "colab": {
          "base_uri": "https://localhost:8080/",
          "height": 283
        },
        "outputId": "27bd0e1f-2778-4ecf-ab49-2a22a6556284"
      },
      "source": [
        "sns.heatmap(confusion_matrix(y_oversample,predictions),annot=True,fmt=\"0.0f\")"
      ],
      "execution_count": null,
      "outputs": [
        {
          "output_type": "execute_result",
          "data": {
            "text/plain": [
              "<matplotlib.axes._subplots.AxesSubplot at 0x7f77ca5b9dd8>"
            ]
          },
          "metadata": {
            "tags": []
          },
          "execution_count": 28
        },
        {
          "output_type": "display_data",
          "data": {
            "image/png": "[encoded data removed]",
            "text/plain": [
              "<Figure size 432x288 with 2 Axes>"
            ]
          },
          "metadata": {
            "tags": [],
            "needs_background": "light"
          }
        }
      ]
    },
    {
      "cell_type": "markdown",
      "metadata": {
        "id": "yuWBNBA5p5Xy"
      },
      "source": [
        "# **With smote veriant**"
      ]
    },
    {
      "cell_type": "code",
      "metadata": {
        "id": "xsVvzg9z_KN7",
        "colab": {
          "base_uri": "https://localhost:8080/"
        },
        "outputId": "1adfb5ec-76c0-4511-8391-38f51e2a8916"
      },
      "source": [
        "import smote_variants as sv\n",
        "oversampler= sv.distance_SMOTE()\n",
        "X_samp, y_samp= oversampler.sample(X, y)\n",
        "Xtrain_oversample, ytrain_oversample = oversampler.fit_resample(X_train, y_train)\n",
        "X_oversample, y_oversample = oversampler.fit_resample(X, y)"
      ],
      "execution_count": null,
      "outputs": [
        {
          "output_type": "stream",
          "text": [
            "2020-11-23 10:51:30,561:INFO:distance_SMOTE: Running sampling via ('distance_SMOTE', \"{'proportion': 1.0, 'n_neighbors': 5, 'n_jobs': 1, 'random_state': None}\")\n",
            "2020-11-23 10:51:30,577:INFO:distance_SMOTE: Running sampling via ('distance_SMOTE', \"{'proportion': 1.0, 'n_neighbors': 5, 'n_jobs': 1, 'random_state': None}\")\n",
            "2020-11-23 10:51:30,586:INFO:distance_SMOTE: Running sampling via ('distance_SMOTE', \"{'proportion': 1.0, 'n_neighbors': 5, 'n_jobs': 1, 'random_state': None}\")\n"
          ],
          "name": "stderr"
        }
      ]
    },
    {
      "cell_type": "code",
      "metadata": {
        "id": "OVY_Mepd_YP3"
      },
      "source": [
        "oversamplers= sv.get_all_oversamplers()"
      ],
      "execution_count": null,
      "outputs": []
    },
    {
      "cell_type": "code",
      "metadata": {
        "id": "sClE95jS_eEd",
        "colab": {
          "base_uri": "https://localhost:8080/"
        },
        "outputId": "0c012a97-19ec-4548-e437-811f39a01952"
      },
      "source": [
        "X_samp, y_samp= X_samp[len(X):], y_samp[len(y):]\n",
        "\n",
        "print('majority new samples: %d' % np.sum(y_samp == 0))\n",
        "print('minority new samples: %d' % np.sum(y_samp == 1))"
      ],
      "execution_count": null,
      "outputs": [
        {
          "output_type": "stream",
          "text": [
            "majority new samples: 68\n",
            "minority new samples: 0\n"
          ],
          "name": "stdout"
        }
      ]
    },
    {
      "cell_type": "code",
      "metadata": {
        "id": "1IEIL53qCAAI",
        "colab": {
          "base_uri": "https://localhost:8080/",
          "height": 350
        },
        "outputId": "c2e67a79-5c31-4ca8-baca-ac8767f9be69"
      },
      "source": [
        "\n",
        "plt.figure(figsize=(10, 5))\n",
        "\n",
        "plt.scatter(X[y == 0][:,0], X[y == 0][:,4], c='orange',label='minority class')\n",
        "plt.scatter(X[y == 1][:,0], X[y == 1][:,4], c='olive', label='majority class')\n",
        "plt.scatter(X_samp[y_samp == 0][:,0], X_samp[y_samp == 0][:,4], label='new minority samples', c='orange', marker='x')\n",
        "plt.title('oversampled dataset')\n",
        "plt.xlabel('coordinate 0')\n",
        "plt.ylabel('coordinate 4')\n",
        "plt.show()\n",
        "\n"
      ],
      "execution_count": null,
      "outputs": [
        {
          "output_type": "display_data",
          "data": {
            "image/png": "[encoded data removed]",
            "text/plain": [
              "<Figure size 720x360 with 1 Axes>"
            ]
          },
          "metadata": {
            "tags": [],
            "needs_background": "light"
          }
        }
      ]
    },
    {
      "cell_type": "code",
      "metadata": {
        "id": "3nwLQk2yQADw",
        "colab": {
          "base_uri": "https://localhost:8080/",
          "height": 337
        },
        "outputId": "86f9b53b-3c3e-4532-8bb8-60e42196e037"
      },
      "source": [
        "sns.countplot(y_oversample)"
      ],
      "execution_count": null,
      "outputs": [
        {
          "output_type": "stream",
          "text": [
            "/usr/local/lib/python3.6/dist-packages/seaborn/_decorators.py:43: FutureWarning: Pass the following variable as a keyword arg: x. From version 0.12, the only valid positional argument will be `data`, and passing other arguments without an explicit keyword will result in an error or misinterpretation.\n",
            "  FutureWarning\n"
          ],
          "name": "stderr"
        },
        {
          "output_type": "execute_result",
          "data": {
            "text/plain": [
              "<matplotlib.axes._subplots.AxesSubplot at 0x7f00764bdc18>"
            ]
          },
          "metadata": {
            "tags": []
          },
          "execution_count": 18
        },
        {
          "output_type": "display_data",
          "data": {
            "image/png": "[encoded data removed]",
            "text/plain": [
              "<Figure size 432x288 with 1 Axes>"
            ]
          },
          "metadata": {
            "tags": [],
            "needs_background": "light"
          }
        }
      ]
    },
    {
      "cell_type": "code",
      "metadata": {
        "id": "HZufntpBQ5R1",
        "colab": {
          "base_uri": "https://localhost:8080/",
          "height": 681
        },
        "outputId": "4c7f4083-b809-4436-98fb-8a2fcaf85c34"
      },
      "source": [
        "nb1 = GaussianNB()\n",
        "nb1.fit(Xtrain_oversample, ytrain_oversample)\n",
        "y_pred=nb1.predict(X_test)\n",
        "print(\"Accuracy: \")\n",
        "print(accuracy_score(y_pred, y_test)*100)\n",
        "print(confusion_matrix(y_test,y_pred))\n",
        "print(classification_report(y_test,y_pred))\n",
        "sns.heatmap(confusion_matrix(y_test,y_pred),annot=True,fmt=\"0.0f\")\n",
        "print(\"10 fold cross validation\")\n",
        "nb2 = cross_val_score(nb1, X_oversample, y_oversample, cv=10)\n",
        "print(nb2.mean()*100)\n",
        "predictions = cross_val_predict(nb1, X_oversample, y_oversample, cv=10)\n",
        "print(classification_report(y_oversample,predictions))"
      ],
      "execution_count": null,
      "outputs": [
        {
          "output_type": "stream",
          "text": [
            "Accuracy: \n",
            "85.71428571428571\n",
            "[[ 89  18]\n",
            " [ 16 115]]\n",
            "              precision    recall  f1-score   support\n",
            "\n",
            "           0       0.85      0.83      0.84       107\n",
            "           1       0.86      0.88      0.87       131\n",
            "\n",
            "    accuracy                           0.86       238\n",
            "   macro avg       0.86      0.85      0.86       238\n",
            "weighted avg       0.86      0.86      0.86       238\n",
            "\n",
            "10 fold cross validation\n",
            "83.46222222222221\n",
            "              precision    recall  f1-score   support\n",
            "\n",
            "           0       0.83      0.84      0.84       629\n",
            "           1       0.84      0.83      0.83       629\n",
            "\n",
            "    accuracy                           0.83      1258\n",
            "   macro avg       0.83      0.83      0.83      1258\n",
            "weighted avg       0.83      0.83      0.83      1258\n",
            "\n"
          ],
          "name": "stdout"
        },
        {
          "output_type": "display_data",
          "data": {
            "image/png": "[encoded data removed]",
            "text/plain": [
              "<Figure size 432x288 with 2 Axes>"
            ]
          },
          "metadata": {
            "tags": [],
            "needs_background": "light"
          }
        }
      ]
    },
    {
      "cell_type": "code",
      "metadata": {
        "id": "wHE8t0OVq-6x",
        "colab": {
          "base_uri": "https://localhost:8080/",
          "height": 283
        },
        "outputId": "d48fc70f-5c85-415c-8d59-1f730481fdb1"
      },
      "source": [
        "sns.heatmap(confusion_matrix(y_oversample,predictions),annot=True,fmt=\"0.0f\")"
      ],
      "execution_count": null,
      "outputs": [
        {
          "output_type": "execute_result",
          "data": {
            "text/plain": [
              "<matplotlib.axes._subplots.AxesSubplot at 0x7f0060eb9a20>"
            ]
          },
          "metadata": {
            "tags": []
          },
          "execution_count": 20
        },
        {
          "output_type": "display_data",
          "data": {
            "image/png": "[encoded data removed]",
            "text/plain": [
              "<Figure size 432x288 with 2 Axes>"
            ]
          },
          "metadata": {
            "tags": [],
            "needs_background": "light"
          }
        }
      ]
    },
    {
      "cell_type": "code",
      "metadata": {
        "id": "qj1LRFhcRaAZ",
        "colab": {
          "base_uri": "https://localhost:8080/",
          "height": 647
        },
        "outputId": "93f10d5b-abda-412f-d4a1-c88f3d40376a"
      },
      "source": [
        "clf_tree = DecisionTreeClassifier(random_state=42)\n",
        "clf_tree.fit(Xtrain_oversample, ytrain_oversample)\n",
        "y_pred = clf_tree.predict(X_test) \n",
        "acc = accuracy_score(y_test, y_pred)\n",
        "\n",
        "print (\" Decission tree accuracy: \",acc*100)\n",
        "print(confusion_matrix(y_test,y_pred))\n",
        "print(classification_report(y_test,y_pred))\n",
        "sns.heatmap(confusion_matrix(y_test,y_pred),annot=True,fmt=\"0.0f\")\n",
        "scores = cross_val_score(clf_tree, X_oversample, y_oversample, cv=10)\n",
        "print(scores.mean()*100)\n",
        "predictions = cross_val_predict(clf_tree, X_oversample, y_oversample, cv=10)\n",
        "print(classification_report(y_oversample,predictions))"
      ],
      "execution_count": null,
      "outputs": [
        {
          "output_type": "stream",
          "text": [
            " Decission tree accuracy:  88.65546218487394\n",
            "[[ 99   8]\n",
            " [ 19 112]]\n",
            "              precision    recall  f1-score   support\n",
            "\n",
            "           0       0.84      0.93      0.88       107\n",
            "           1       0.93      0.85      0.89       131\n",
            "\n",
            "    accuracy                           0.89       238\n",
            "   macro avg       0.89      0.89      0.89       238\n",
            "weighted avg       0.89      0.89      0.89       238\n",
            "\n",
            "88.24825396825396\n",
            "              precision    recall  f1-score   support\n",
            "\n",
            "           0       0.87      0.90      0.88       629\n",
            "           1       0.89      0.87      0.88       629\n",
            "\n",
            "    accuracy                           0.88      1258\n",
            "   macro avg       0.88      0.88      0.88      1258\n",
            "weighted avg       0.88      0.88      0.88      1258\n",
            "\n"
          ],
          "name": "stdout"
        },
        {
          "output_type": "display_data",
          "data": {
            "image/png": "[encoded data removed]",
            "text/plain": [
              "<Figure size 432x288 with 2 Axes>"
            ]
          },
          "metadata": {
            "tags": [],
            "needs_background": "light"
          }
        }
      ]
    },
    {
      "cell_type": "code",
      "metadata": {
        "id": "qqYnhddtq4tu",
        "colab": {
          "base_uri": "https://localhost:8080/",
          "height": 283
        },
        "outputId": "b965ff97-427c-4247-dd6c-9742d4014610"
      },
      "source": [
        "sns.heatmap(confusion_matrix(y_oversample,predictions),annot=True,fmt=\"0.0f\")"
      ],
      "execution_count": null,
      "outputs": [
        {
          "output_type": "execute_result",
          "data": {
            "text/plain": [
              "<matplotlib.axes._subplots.AxesSubplot at 0x7f0060cd0048>"
            ]
          },
          "metadata": {
            "tags": []
          },
          "execution_count": 45
        },
        {
          "output_type": "display_data",
          "data": {
            "image/png": "[encoded data removed]",
            "text/plain": [
              "<Figure size 432x288 with 2 Axes>"
            ]
          },
          "metadata": {
            "tags": [],
            "needs_background": "light"
          }
        }
      ]
    },
    {
      "cell_type": "code",
      "metadata": {
        "id": "fNYCllV_R5L5",
        "colab": {
          "base_uri": "https://localhost:8080/",
          "height": 647
        },
        "outputId": "b7c07d7a-b99c-496f-f6bc-0619ef213c3c"
      },
      "source": [
        "from sklearn.ensemble import RandomForestClassifier\n",
        "clf_rf = RandomForestClassifier(max_depth=10, random_state=0)\n",
        "clf_rf.fit(Xtrain_oversample, ytrain_oversample)\n",
        "y_pred = clf_rf.predict(X_test) \n",
        "acc = accuracy_score(y_test, y_pred)\n",
        "\n",
        "print (\"random Forest accuracy: \",acc*100)\n",
        "print(confusion_matrix(y_test,y_pred))\n",
        "print(classification_report(y_test,y_pred))\n",
        "sns.heatmap(confusion_matrix(y_test,y_pred),annot=True,fmt=\"0.0f\")\n",
        "scores = cross_val_score(clf_rf, X_oversample, y_oversample, cv=10)\n",
        "print(scores.mean()*100)\n",
        "predictions = cross_val_predict(clf_rf, X_oversample, y_oversample, cv=10)\n",
        "print(classification_report(y_oversample,predictions))\n"
      ],
      "execution_count": null,
      "outputs": [
        {
          "output_type": "stream",
          "text": [
            "random Forest accuracy:  94.11764705882352\n",
            "[[ 97  10]\n",
            " [  4 127]]\n",
            "              precision    recall  f1-score   support\n",
            "\n",
            "           0       0.96      0.91      0.93       107\n",
            "           1       0.93      0.97      0.95       131\n",
            "\n",
            "    accuracy                           0.94       238\n",
            "   macro avg       0.94      0.94      0.94       238\n",
            "weighted avg       0.94      0.94      0.94       238\n",
            "\n",
            "92.37079365079366\n",
            "              precision    recall  f1-score   support\n",
            "\n",
            "           0       0.93      0.91      0.92       629\n",
            "           1       0.92      0.93      0.92       629\n",
            "\n",
            "    accuracy                           0.92      1258\n",
            "   macro avg       0.92      0.92      0.92      1258\n",
            "weighted avg       0.92      0.92      0.92      1258\n",
            "\n"
          ],
          "name": "stdout"
        },
        {
          "output_type": "display_data",
          "data": {
            "image/png": "[encoded data removed]",
            "text/plain": [
              "<Figure size 432x288 with 2 Axes>"
            ]
          },
          "metadata": {
            "tags": [],
            "needs_background": "light"
          }
        }
      ]
    },
    {
      "cell_type": "code",
      "metadata": {
        "id": "kWaY4uS9qkPL",
        "colab": {
          "base_uri": "https://localhost:8080/",
          "height": 283
        },
        "outputId": "3ae00c37-14b8-46a5-a9ce-da373c2c95ea"
      },
      "source": [
        "sns.heatmap(confusion_matrix(y_oversample,predictions),annot=True,fmt=\"0.0f\")"
      ],
      "execution_count": null,
      "outputs": [
        {
          "output_type": "execute_result",
          "data": {
            "text/plain": [
              "<matplotlib.axes._subplots.AxesSubplot at 0x7f00608b26d8>"
            ]
          },
          "metadata": {
            "tags": []
          },
          "execution_count": 47
        },
        {
          "output_type": "display_data",
          "data": {
            "image/png": "[encoded data removed]",
            "text/plain": [
              "<Figure size 432x288 with 2 Axes>"
            ]
          },
          "metadata": {
            "tags": [],
            "needs_background": "light"
          }
        }
      ]
    }
  ]
}